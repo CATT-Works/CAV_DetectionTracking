{
 "cells": [
  {
   "cell_type": "markdown",
   "metadata": {},
   "source": [
    "# Preprare configs\n",
    "\n",
    "This notebook supports the process of preparing config files.\n",
    "The goals of the notebooks are as follows:\n",
    "- extracting selected frame(s) from the video\n",
    "- setting ant testing unwrapping parameters (camera view -> bird's eye view)"
   ]
  },
  {
   "cell_type": "code",
   "execution_count": null,
   "metadata": {
    "tags": []
   },
   "outputs": [],
   "source": [
    "import sys\n",
    "#sys.path.insert(0,'../..')\n",
    "sys.path.insert(0,'..')\n",
    "\n",
    "import os\n",
    "import numpy as np\n",
    "import cv2\n",
    "import matplotlib.pyplot as plt\n",
    "import pathlib \n",
    "\n",
    "import pickle\n",
    "from moveoverlib.functions import *\n",
    "\n",
    "%matplotlib inline"
   ]
  },
  {
   "cell_type": "code",
   "execution_count": null,
   "metadata": {},
   "outputs": [],
   "source": [
    "VIDEO_FILE = '/data/MoveOver/Videos/SpeedTest20210930/Speed Testing 9-30-21.mp4'\n",
    "\n",
    "# Create folder for images\n",
    "pathlib.Path('./images/').mkdir(parents=True, exist_ok=True)\n",
    "\n",
    "# Extract frames\n",
    "extractFrame(VIDEO_FILE, frameno = 30*60*4, dest_file = './images/frame_view1.jpg');\n",
    "extractFrame(VIDEO_FILE, frameno = (25*60*30)+(6*30), dest_file = './images/frame_view_2.jpg');\n"
   ]
  },
  {
   "cell_type": "markdown",
   "metadata": {},
   "source": [
    "Points for source (camera view) and destination (image view)\n",
    "First four points are used for unwrapping, the rest is just display at tests"
   ]
  },
  {
   "cell_type": "code",
   "execution_count": null,
   "metadata": {},
   "outputs": [],
   "source": [
    "\n",
    "SRC = np.float32([\n",
    "        [1072, 1036], #First dashed line, right carriageway (Bottom-Right camera view)\n",
    "        [578, 756], #Grass/pavement corner (Bottom-Left camera view)\n",
    "        [1493, 302], #Walkway line (Top-Right camera view)\n",
    "        [1009, 317], #Stop line (Top-Left camera view)\n",
    "    \n",
    "        [1248, 755], #Continuous line, right carriageway (Bottom-Right camera view)       \n",
    "        [1211, 400], #Yellow left line    \n",
    "        [1035, 598], #Continuous line, left carriageway \n",
    "    \n",
    "    ])\n",
    "DST = np.float32([\n",
    "        \n",
    "        [294, 381], #First dashed line, right carriageway (Bottom-Right camera view)\n",
    "        [689, 513], #Grass/pavement corner (Bottom-Left camera view)\n",
    "        [921, 2444], #Walkway line (Top-Right camera view)\n",
    "        [1485, 2126], #Stop line (Top-Left camera view)\n",
    "    \n",
    "        [386, 709], #Continuous line, right carriageway (Bottom-Right camera view)       \n",
    "        [920, 1670], #Yellow left line    \n",
    "        [656, 917], #Continuous line, left carriageway \n",
    "])\n",
    "\n",
    "print ('  \"cameraPoints\" : [[{}, {}], [{}, {}], [{}, {}], [{}, {}]],'.format(\n",
    "    int(SRC[0][0]), int(SRC[0][1]),\n",
    "    int(SRC[1][0]), int(SRC[1][1]),\n",
    "    int(SRC[2][0]), int(SRC[2][1]),\n",
    "    int(SRC[3][0]), int(SRC[3][1])\n",
    "))\n",
    "\n",
    "print ('  \"birdEyePoints\" : [[{}, {}], [{}, {}], [{}, {}], [{}, {}]],'.format(\n",
    "    int(DST[0][0]), int(DST[0][1]),\n",
    "    int(DST[1][0]), int(DST[1][1]),\n",
    "    int(DST[2][0]), int(DST[2][1]),\n",
    "    int(DST[3][0]), int(DST[3][1]),\n",
    "))\n",
    "\n"
   ]
  },
  {
   "cell_type": "code",
   "execution_count": null,
   "metadata": {},
   "outputs": [],
   "source": [
    "M = cv2.getPerspectiveTransform(SRC[:4], DST[:4])\n",
    "Minv = cv2.getPerspectiveTransform(DST[:4], SRC[:4])"
   ]
  },
  {
   "cell_type": "code",
   "execution_count": null,
   "metadata": {},
   "outputs": [],
   "source": [
    "map_file = './images/SkyView.jpg'\n",
    "ret = displayPoints(SRC, M, './images/frame_view_2.jpg', map_file)"
   ]
  },
  {
   "cell_type": "code",
   "execution_count": null,
   "metadata": {},
   "outputs": [],
   "source": [
    "ret = displayPoints(DST, Minv, map_file,  './images/frame_view1.jpg')"
   ]
  },
  {
   "cell_type": "markdown",
   "metadata": {},
   "source": [
    "# Lane masks"
   ]
  },
  {
   "cell_type": "code",
   "execution_count": null,
   "metadata": {},
   "outputs": [],
   "source": [
    "MASK_PATH = './images/Mask.png'"
   ]
  },
  {
   "cell_type": "code",
   "execution_count": null,
   "metadata": {},
   "outputs": [],
   "source": [
    "\n",
    "\n",
    "mask = (255*plt.imread(MASK_PATH)).astype(int)\n",
    "if (len(mask.shape) == 3) and (mask.shape[2] > 1):\n",
    "    #mask = np.sum(mask, axis=2)\n",
    "    mask = mask[:, :, 0]\n",
    "plt.imshow(mask, cmap='gray')\n",
    "unique = np.unique(mask, return_counts=True)\n",
    "unique"
   ]
  },
  {
   "cell_type": "code",
   "execution_count": null,
   "metadata": {},
   "outputs": [],
   "source": [
    "order = np.argsort(unique[1])[::-1]\n",
    "unique_sorted = (unique[0][order], unique[1][order])\n",
    "print (unique_sorted)"
   ]
  },
  {
   "cell_type": "code",
   "execution_count": null,
   "metadata": {},
   "outputs": [],
   "source": [
    "mask[~np.isin(mask, (10, 20, 30, 40, 50))] = 0\n",
    "plt.imshow(mask, cmap='gray')\n",
    "unique = np.unique(mask, return_counts=True)\n",
    "unique"
   ]
  },
  {
   "cell_type": "code",
   "execution_count": null,
   "metadata": {},
   "outputs": [],
   "source": [
    "tmp = mask.copy()\n",
    "tmp[tmp!=50] = 0\n",
    "plt.imshow(tmp, cmap='gray')"
   ]
  },
  {
   "cell_type": "code",
   "execution_count": null,
   "metadata": {},
   "outputs": [],
   "source": [
    "for i in np.unique(mask)[1:]:\n",
    "    f = plt.figure()\n",
    "    img = i * (mask == i)\n",
    "    plt.imshow(img, cmap='gray')\n",
    "    plt.title(i)"
   ]
  },
  {
   "cell_type": "code",
   "execution_count": null,
   "metadata": {},
   "outputs": [],
   "source": []
  },
  {
   "cell_type": "code",
   "execution_count": null,
   "metadata": {},
   "outputs": [],
   "source": []
  }
 ],
 "metadata": {
  "kernelspec": {
   "display_name": "Python 3",
   "language": "python",
   "name": "python3"
  },
  "language_info": {
   "codemirror_mode": {
    "name": "ipython",
    "version": 3
   },
   "file_extension": ".py",
   "mimetype": "text/x-python",
   "name": "python",
   "nbconvert_exporter": "python",
   "pygments_lexer": "ipython3",
   "version": "3.7.6"
  },
  "toc-autonumbering": false,
  "toc-showcode": false,
  "toc-showmarkdowntxt": false
 },
 "nbformat": 4,
 "nbformat_minor": 4
}
