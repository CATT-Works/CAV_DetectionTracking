{
 "cells": [
  {
   "cell_type": "code",
   "execution_count": null,
   "metadata": {},
   "outputs": [],
   "source": [
    "import pandas as pd\n",
    "import numpy as np\n",
    "import pickle \n",
    "import cv2\n",
    "import math"
   ]
  },
  {
   "cell_type": "code",
   "execution_count": null,
   "metadata": {},
   "outputs": [],
   "source": [
    "ACTION_FILE = './data/actions.csv' # output from Lane_analysis notebook\n",
    "LANE_FILE = './data/lanes_detections_25.csv' # output from detect_lanes notebook\n",
    "OUTPUT_FILE = './data/output_processed.csv' # The output file that may be shared outside"
   ]
  },
  {
   "cell_type": "code",
   "execution_count": null,
   "metadata": {},
   "outputs": [],
   "source": [
    "VIDEO_FILE = pickle.load(open('./data/videopath.p', 'rb'))\n",
    "\n",
    "cap = cv2.VideoCapture(VIDEO_FILE) \n",
    "fps = cap.get(cv2.CAP_PROP_FPS)\n",
    "print ('FPS:', fps)"
   ]
  },
  {
   "cell_type": "code",
   "execution_count": null,
   "metadata": {},
   "outputs": [],
   "source": [
    "dfraw = pd.read_csv(LANE_FILE, header=None)\n",
    "dfraw.columns = ['frame', 'lane', 'objectId', 'objectType', 'secMark', \n",
    "                 'xLeft', 'xRight', 'yTop', 'yBottom', 'lat', 'lon', 'speed', 'heading', 'elevation'] \n",
    "lane = dfraw.groupby('objectId').agg({\n",
    "    'frame' : [np.min, np.max],  \n",
    "    'objectType' : [pd.Series.mode, 'mean'],\n",
    "}).reset_index()\n",
    "lane.columns = ['objectId', 'frame_start', 'frame_end', 'objectType', 'otMean']\n",
    "lane.head()\n",
    "lane = lane.merge(dfraw[['objectId', 'frame', 'lat', 'lon']], \n",
    "                  left_on = ['objectId', 'frame_start'],\n",
    "                  right_on = ['objectId', 'frame']).drop('frame', axis=1)\n",
    "\n",
    "lane = lane.merge(dfraw[['objectId', 'frame', 'lat', 'lon']], \n",
    "                  left_on = ['objectId', 'frame_end'],\n",
    "                  right_on = ['objectId', 'frame']).drop('frame', axis=1)\n",
    "lane = lane.rename(columns = {\n",
    "    'lat_x' : 'lat_start',\n",
    "    'lon_x' : 'lon_start',\n",
    "    'lat_y' : 'lat_end',\n",
    "    'lon_y' : 'lon_end',    \n",
    "})\n",
    "\n",
    "lane['time'] = (lane.frame_end - lane.frame_start) / fps\n",
    "lane.head(10)"
   ]
  },
  {
   "cell_type": "code",
   "execution_count": null,
   "metadata": {},
   "outputs": [],
   "source": [
    "def computeDistance(row):\n",
    "    \"\"\"\n",
    "    Computes speeds between two points determined by\n",
    "    (row.lat_start, row.lon_start), (row.lat_end, row.lon_end)\n",
    "    Arguments:\n",
    "        row - a structure (pd.Series) with defined the abovementioned\n",
    "              lat/lon features\n",
    "    Returns: \n",
    "        distance in meters\n",
    "    \"\"\"\n",
    "    \n",
    "    degrees_to_radians = math.pi / 180.0\n",
    "\n",
    "    # phi = 90 - latitude\n",
    "    phi1 = (90.0 - row.lat_start) * degrees_to_radians\n",
    "    phi2 = (90.0 - row.lat_end) * degrees_to_radians\n",
    "\n",
    "    # theta = longitude\n",
    "    theta1 = row.lon_start * degrees_to_radians\n",
    "    theta2 = row.lon_end * degrees_to_radians\n",
    "\n",
    "    cos = (math.sin(phi1) * math.sin(phi2) * math.cos(theta1 - theta2) +\n",
    "       math.cos(phi1) * math.cos(phi2))\n",
    "\n",
    "    cos = max(-1, min(1, cos)) # in case of numerical problems\n",
    "\n",
    "    ret = 6731000 * math.acos(cos) # mutliplied by earth radius in meters\n",
    "    return ret\n",
    "\n",
    "lane['dist'] = lane.apply(computeDistance, axis=1)\n",
    "lane.head()"
   ]
  },
  {
   "cell_type": "code",
   "execution_count": null,
   "metadata": {},
   "outputs": [],
   "source": [
    "lane['speed'] = lane.dist / lane.time * 2.237 # m/s -> MpH\n",
    "lane = lane[lane.time > 0]\n",
    "lane.head()"
   ]
  },
  {
   "cell_type": "code",
   "execution_count": null,
   "metadata": {},
   "outputs": [],
   "source": [
    "df = pd.read_csv(ACTION_FILE)\n",
    "df = df[['objectId', 'action', 'slowed', 'can_change']]\n",
    "print (df.shape)\n",
    "df = df.merge(lane, on='objectId')\n",
    "print (df.shape)\n",
    "df.head()"
   ]
  },
  {
   "cell_type": "code",
   "execution_count": null,
   "metadata": {},
   "outputs": [],
   "source": [
    "df = df[['objectId', 'frame_start', 'frame_end', 'objectType', 'speed', 'action', 'can_change', 'slowed']]\n",
    "df.loc[df.can_change == 1, 'can_change'] = True\n",
    "df.loc[df.can_change == 0, 'can_change'] = False\n",
    "df.head()"
   ]
  },
  {
   "cell_type": "code",
   "execution_count": null,
   "metadata": {},
   "outputs": [],
   "source": [
    "df.to_csv(OUTPUT_FILE, index=False)"
   ]
  },
  {
   "cell_type": "code",
   "execution_count": null,
   "metadata": {},
   "outputs": [],
   "source": []
  },
  {
   "cell_type": "code",
   "execution_count": null,
   "metadata": {},
   "outputs": [],
   "source": []
  }
 ],
 "metadata": {
  "kernelspec": {
   "display_name": "Python 3",
   "language": "python",
   "name": "python3"
  },
  "language_info": {
   "codemirror_mode": {
    "name": "ipython",
    "version": 3
   },
   "file_extension": ".py",
   "mimetype": "text/x-python",
   "name": "python",
   "nbconvert_exporter": "python",
   "pygments_lexer": "ipython3",
   "version": "3.7.6"
  }
 },
 "nbformat": 4,
 "nbformat_minor": 4
}
