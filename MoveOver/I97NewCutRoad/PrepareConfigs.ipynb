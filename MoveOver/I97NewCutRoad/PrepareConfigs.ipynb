{
 "cells": [
  {
   "cell_type": "markdown",
   "metadata": {},
   "source": [
    "# Preprare configs\n",
    "\n",
    "This notebook supports the process of preparing config files.\n",
    "The goals of the notebooks are as follows:\n",
    "- extracting selected frame(s) from the video\n",
    "- setting ant testing unwrapping parameters (camera view -> bird's eye view)"
   ]
  },
  {
   "cell_type": "code",
   "execution_count": null,
   "metadata": {},
   "outputs": [],
   "source": [
    "import sys\n",
    "#sys.path.insert(0,'../..')\n",
    "sys.path.insert(0,'..')\n",
    "\n",
    "import os\n",
    "import numpy as np\n",
    "import cv2\n",
    "import matplotlib.pyplot as plt\n",
    "import pathlib \n",
    "\n",
    "from moveoverlib.functions import *\n",
    "\n",
    "%matplotlib inline"
   ]
  },
  {
   "cell_type": "code",
   "execution_count": null,
   "metadata": {},
   "outputs": [],
   "source": [
    "VIDEO_FILE = '/data/MoveOver/Videos/I97-New Cut Road HH 3-4-21.mp4'\n",
    "\n",
    "pathlib.Path('./images/').mkdir(parents=True, exist_ok=True)\n",
    "extractFrame(VIDEO_FILE, frameno = 16, dest_file = './images/frame_1.jpg');\n",
    "extractFrame(VIDEO_FILE, frameno = 25, dest_file = './images/frame_2.jpg');\n"
   ]
  },
  {
   "cell_type": "markdown",
   "metadata": {},
   "source": [
    "Points for source (camera view) and destination (image view)\n",
    "First four points are used for unwrapping, the rest is just display at tests"
   ]
  },
  {
   "cell_type": "code",
   "execution_count": null,
   "metadata": {},
   "outputs": [],
   "source": [
    "SRC = np.float32([\n",
    "        [1027, 296],\n",
    "        [1231.0, 970.0], \n",
    "        [842.0, 759.0], \n",
    "        [1377.0, 787.0],\n",
    "        [446.0, 1016.0], \n",
    "    ])\n",
    "DST = np.float32([\n",
    "        [620, 1173],\n",
    "        [79.0, 104.0], \n",
    "        [174.0, 220.0],\n",
    "        [127.0, 236.0],    \n",
    "        [110.0, 37.0], \n",
    "])\n",
    "\n",
    "print ('  \"cameraPoints\" : [[{}, {}], [{}, {}], [{}, {}], [{}, {}]],'.format(\n",
    "    int(SRC[0][0]), int(SRC[0][1]),\n",
    "    int(SRC[1][0]), int(SRC[1][1]),\n",
    "    int(SRC[2][0]), int(SRC[2][1]),\n",
    "    int(SRC[3][0]), int(SRC[3][1])\n",
    "))\n",
    "\n",
    "print ('  \"birdEyePoints\" : [[{}, {}], [{}, {}], [{}, {}], [{}, {}]],'.format(\n",
    "    int(DST[0][0]), int(DST[0][1]),\n",
    "    int(DST[1][0]), int(DST[1][1]),\n",
    "    int(DST[2][0]), int(DST[2][1]),\n",
    "    int(DST[3][0]), int(DST[3][1]),\n",
    "))\n",
    "\n"
   ]
  },
  {
   "cell_type": "code",
   "execution_count": null,
   "metadata": {},
   "outputs": [],
   "source": [
    "M = cv2.getPerspectiveTransform(SRC[:4], DST[:4])\n",
    "Minv = cv2.getPerspectiveTransform(DST[:4], SRC[:4])"
   ]
  },
  {
   "cell_type": "code",
   "execution_count": null,
   "metadata": {},
   "outputs": [],
   "source": [
    "map_file = './images/I97_NewCutRoad_map.jpg'\n",
    "ret = displayPoints(SRC, M, './images/frame_1.jpg', map_file)"
   ]
  },
  {
   "cell_type": "code",
   "execution_count": null,
   "metadata": {},
   "outputs": [],
   "source": [
    "ret = displayPoints(DST, Minv, map_file,  './images/frame_1.jpg')"
   ]
  },
  {
   "cell_type": "markdown",
   "metadata": {},
   "source": [
    "# Lane masks"
   ]
  },
  {
   "cell_type": "code",
   "execution_count": null,
   "metadata": {},
   "outputs": [],
   "source": [
    "MASK_PATH = '../MoveOver/PAI81_66/lanes.png'"
   ]
  },
  {
   "cell_type": "code",
   "execution_count": null,
   "metadata": {},
   "outputs": [],
   "source": [
    "\n",
    "\n",
    "mask = (255*plt.imread(MASK_PATH)).astype(int)\n",
    "if (len(mask.shape) == 3) and (mask.shape[2] > 1):\n",
    "    #mask = np.sum(mask, axis=2)\n",
    "    mask = mask[:, :, 0]\n",
    "plt.imshow(mask, cmap='gray')\n",
    "list(np.unique(mask, return_counts=True))"
   ]
  },
  {
   "cell_type": "code",
   "execution_count": null,
   "metadata": {},
   "outputs": [],
   "source": [
    "np.where(mask==174)"
   ]
  },
  {
   "cell_type": "code",
   "execution_count": null,
   "metadata": {},
   "outputs": [],
   "source": [
    "for i in np.unique(mask)[1:]:\n",
    "    f = plt.figure()\n",
    "    img = i * (mask == i)\n",
    "    plt.imshow(img, cmap='gray')\n",
    "    plt.title(i)"
   ]
  },
  {
   "cell_type": "code",
   "execution_count": null,
   "metadata": {},
   "outputs": [],
   "source": []
  },
  {
   "cell_type": "code",
   "execution_count": null,
   "metadata": {},
   "outputs": [],
   "source": []
  }
 ],
 "metadata": {
  "kernelspec": {
   "display_name": "Python [conda env:object_detection]",
   "language": "python",
   "name": "conda-env-object_detection-py"
  },
  "language_info": {
   "codemirror_mode": {
    "name": "ipython",
    "version": 3
   },
   "file_extension": ".py",
   "mimetype": "text/x-python",
   "name": "python",
   "nbconvert_exporter": "python",
   "pygments_lexer": "ipython3",
   "version": "3.7.6"
  }
 },
 "nbformat": 4,
 "nbformat_minor": 4
}
