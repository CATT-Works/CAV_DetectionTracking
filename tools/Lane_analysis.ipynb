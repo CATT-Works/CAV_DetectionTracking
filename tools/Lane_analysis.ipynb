{
 "cells": [
  {
   "cell_type": "code",
   "execution_count": null,
   "metadata": {},
   "outputs": [],
   "source": [
    "import pandas as pd\n",
    "import numpy as np"
   ]
  },
  {
   "cell_type": "code",
   "execution_count": null,
   "metadata": {},
   "outputs": [],
   "source": [
    "FPS = 30"
   ]
  },
  {
   "cell_type": "code",
   "execution_count": null,
   "metadata": {},
   "outputs": [],
   "source": [
    "dfraw = pd.read_csv('../logs/log_lanes2.csv', header=None)\n",
    "dfraw.columns = ['frame', 'lane', 'objectId', 'objectType', 'secMark', 'xLeft', 'xRight', 'yTop', 'yBottom', 'lat', 'lon', 'speed', 'heading', 'elevation'] \n",
    "dfraw.speed = dfraw.speed.replace('None', np.nan).astype(float)\n",
    "print (dfraw.shape)\n",
    "print (dfraw.columns)\n",
    "dfraw.head()"
   ]
  },
  {
   "cell_type": "code",
   "execution_count": null,
   "metadata": {},
   "outputs": [],
   "source": [
    "df = dfraw.copy()\n",
    "#df.loc[df.lane==4, 'lane'] = 3\n",
    "df = df.groupby(['objectId', 'lane']).agg({\n",
    "    'secMark' : 'count',\n",
    "    'frame' : [np.min, np.max],\n",
    "    'speed' : np.nanmean,\n",
    "})\n",
    "df.columns = ['nr_frames', 'frame_start', 'frame_end', 'speed_mean']\n",
    "df = df.reset_index()\n",
    "print (df.shape)\n",
    "df = df[df.nr_frames >= 0.5 * FPS] # Must be detected for at least X seconds\n",
    "df = df.sort_values('frame_end')\n",
    "print (df.shape)\n",
    "df.head(10)"
   ]
  },
  {
   "cell_type": "code",
   "execution_count": null,
   "metadata": {},
   "outputs": [],
   "source": [
    "df = df.groupby(['lane', 'nr_frames', 'frame_start', 'frame_end', 'speed_mean']).agg({'objectId' : 'min'}).reset_index()\n",
    "df = df[['objectId', 'lane', 'nr_frames', 'frame_start', 'frame_end', 'speed_mean']]\n",
    "df = df.sort_values('frame_end')\n",
    "print (df.shape)\n",
    "df.head(20)"
   ]
  },
  {
   "cell_type": "code",
   "execution_count": null,
   "metadata": {},
   "outputs": [],
   "source": [
    "laneObjects = {}\n",
    "for lane in sorted(list(df.lane.unique())):\n",
    "    laneObjects[lane] = df.objectId[df.lane == lane].unique()\n",
    "    print ('{} objects found at lane {}'.format(len(laneObjects[lane]), lane))"
   ]
  },
  {
   "cell_type": "code",
   "execution_count": null,
   "metadata": {},
   "outputs": [],
   "source": [
    "OLD_VERSION = False\n",
    "if OLD_VERSION:\n",
    "    df_noNeed = df[~df.objectId.isin(df.objectId[df.lane==2])]\n",
    "    print (df_noNeed.shape)\n",
    "    df_noNeed = df_noNeed.groupby('objectId').agg({\n",
    "        'frame_start' : 'min',\n",
    "        'frame_end' : 'max',\n",
    "        'nr_frames' : 'sum',\n",
    "    }).reset_index()\n",
    "    print (len(df_noNeed.objectId.unique()), df_noNeed.shape)\n",
    "else:\n",
    "    df_noNeed = df[df.lane == 4]\n",
    "    print (df_noNeed.shape)\n",
    "    df_noNeed = df_noNeed[~df_noNeed.objectId.isin(laneObjects[2])]\n",
    "    print (df_noNeed.shape)\n",
    "    df_noNeed = df_noNeed[df_noNeed.objectId.isin(laneObjects[3])]\n",
    "    print (df_noNeed.shape)\n",
    "df_noNeed.head(20)    "
   ]
  },
  {
   "cell_type": "code",
   "execution_count": null,
   "metadata": {},
   "outputs": [],
   "source": [
    "print (len (df_noNeed))\n",
    "for i in range (7):\n",
    "    print(i,  len(df_noNeed[df_noNeed.nr_frames > 30*i]))"
   ]
  },
  {
   "cell_type": "code",
   "execution_count": null,
   "metadata": {},
   "outputs": [],
   "source": [
    "if False:\n",
    "    df_noNeed = df_noNeed[df_noNeed.nr_frames > FPS * 2] # Must be detected for at least X seconds\n",
    "    print (len(df_noNeed.objectId.unique()), df_noNeed.shape)\n",
    "    df_noNeed.head()"
   ]
  },
  {
   "cell_type": "code",
   "execution_count": null,
   "metadata": {},
   "outputs": [],
   "source": [
    "df_moveover = df[df.lane == 2]\n",
    "print (df_moveover.shape)\n",
    "df_moveover = df_moveover[df.objectId.isin(laneObjects[3])]\n",
    "print (df_moveover.shape)\n",
    "print (len(df_moveover.objectId.unique()))\n",
    "df_moveover.head()"
   ]
  },
  {
   "cell_type": "code",
   "execution_count": null,
   "metadata": {},
   "outputs": [],
   "source": [
    "# Old version\n",
    "if OLD_VERSION:\n",
    "    tmp = pd.concat([df_noNeed, df_moveover], ignore_index=True).objectId.unique()\n",
    "    print (len(tmp))\n",
    "    df_noMoveOver = df[~df.objectId.isin(tmp)]\n",
    "    print (df_noMoveOver.shape)\n",
    "    df_noMoveOver = df_noMoveOver[df_noMoveOver.objectId.isin(df.loc[df.lane==1, 'objectId'])]\n",
    "    print (df_noMoveOver.shape)\n",
    "    df_noMoveOver.head()\n",
    "else:\n",
    "    df_noMoveOver = df[df.lane == 2]\n",
    "    print (df_noMoveOver.shape)\n",
    "    df_noMoveOver = df_noMoveOver[df_noMoveOver.objectId.isin(laneObjects[1])]\n",
    "    print (df_noMoveOver.shape)\n",
    "    #df_noMoveOver = df_noMoveOver[~df_noMoveOver.objectId.isin(laneObjects[4])]\n",
    "    #print (df_noMoveOver.shape)\n",
    "    \n",
    "    df_noMoveOver.head()    "
   ]
  },
  {
   "cell_type": "code",
   "execution_count": null,
   "metadata": {},
   "outputs": [],
   "source": [
    "if OLD_VERSION:\n",
    "    tmp = df_noMoveOver[['objectId', 'lane', 'frame_start', 'frame_end', 'speed_mean']]\n",
    "    dfSpeed = tmp[tmp.lane == 2]\n",
    "    print (dfSpeed.shape)\n",
    "    dfSpeed = dfSpeed.merge(tmp[tmp.lane == 1], on='objectId')\n",
    "else:\n",
    "    dfSpeed = df_noMoveOver.merge(df[df.lane == 1], on = 'objectId')\n",
    "\n",
    "print (dfSpeed.shape)    \n",
    "dfSpeed = dfSpeed[['objectId', 'frame_start_x', 'frame_start_y', 'speed_mean_x', 'speed_mean_y']]\n",
    "dfSpeed.columns = ['objectId', 'frame_start', 'frame_end', 'speed_before', 'speed_after']\n",
    "dfSpeed['slowed'] = dfSpeed.speed_before * 0.95 > dfSpeed.speed_after\n",
    "dfSpeed['action'] = 'noSlow'\n",
    "dfSpeed.loc[dfSpeed.slowed, 'action'] = 'slow'\n",
    "dfSpeed = dfSpeed.sort_values('frame_end')\n",
    "dfSpeed.head()\n"
   ]
  },
  {
   "cell_type": "code",
   "execution_count": null,
   "metadata": {},
   "outputs": [],
   "source": [
    "dfSpeed.action.value_counts()"
   ]
  },
  {
   "cell_type": "code",
   "execution_count": null,
   "metadata": {},
   "outputs": [],
   "source": [
    "dfres = df_noNeed[['objectId', 'frame_start', 'frame_end']].copy()\n",
    "dfres['action'] = 'noNeed'\n",
    "df_moveover['action'] = 'moveOver'\n",
    "dfres = pd.concat([dfres, df_moveover[['objectId', 'frame_start', 'frame_end', 'action']]], ignore_index=True)\n",
    "dfres = pd.concat([dfres, dfSpeed[['objectId', 'frame_start', 'frame_end', 'action']]], ignore_index=True)\n",
    "dfres = dfres.sort_values('frame_end')\n",
    "dfres"
   ]
  },
  {
   "cell_type": "code",
   "execution_count": null,
   "metadata": {},
   "outputs": [],
   "source": [
    "dfres.action.value_counts()"
   ]
  },
  {
   "cell_type": "code",
   "execution_count": null,
   "metadata": {},
   "outputs": [],
   "source": [
    "dfres.set_index('objectId').to_csv('../CBTV44/actions.left.csv')"
   ]
  },
  {
   "cell_type": "code",
   "execution_count": null,
   "metadata": {},
   "outputs": [],
   "source": [
    "dfres.action[dfres.frame_end < 5*60*FPS].value_counts()"
   ]
  },
  {
   "cell_type": "code",
   "execution_count": null,
   "metadata": {},
   "outputs": [],
   "source": [
    "dfres.head()"
   ]
  },
  {
   "cell_type": "markdown",
   "metadata": {},
   "source": [
    "# Fast video generation"
   ]
  },
  {
   "cell_type": "code",
   "execution_count": null,
   "metadata": {},
   "outputs": [],
   "source": [
    "import glob\n",
    "import os\n",
    "import sys\n",
    "import cv2\n",
    "import numpy as np\n",
    "import matplotlib.pyplot as plt\n",
    "\n",
    "from time import time"
   ]
  },
  {
   "cell_type": "code",
   "execution_count": null,
   "metadata": {},
   "outputs": [],
   "source": [
    "TEXT_SPACE_BOTTOM = 200\n",
    "OUTPUT_FRAMES_PATH = '../CBTV44/frames/'\n",
    "INPUT_FRAMES_PATH = '../frames/'\n",
    "VIDEO_X = 800\n",
    "VIDEO_Y = 450\n",
    "df = pd.read_csv('../CBTV44/actions.left.csv').sort_values('frame_end')\n",
    "df.head(20)"
   ]
  },
  {
   "cell_type": "code",
   "execution_count": null,
   "metadata": {},
   "outputs": [],
   "source": [
    "noNeed = 0\n",
    "moveOver = 0\n",
    "slow = 0\n",
    "noSlow = 0\n",
    "def displayImageCounter(img_y, img_x, nr_frame, return_int = True):\n",
    "    global noNeed\n",
    "    global moveOver\n",
    "    global slow\n",
    "    global noSlow\n",
    "    \n",
    "    im = np.zeros((img_y, img_x,3))\n",
    "    font = cv2.FONT_HERSHEY_PLAIN\n",
    "    \n",
    "    tmp = df[df.frame_end == nr_frame]\n",
    "    if len(tmp) > 0:\n",
    "        noNeed += len(tmp[tmp.action == 'noNeed'])\n",
    "        moveOver += len(tmp[tmp.action == 'moveOver'])\n",
    "        slow += len(tmp[tmp.action == 'slow'])\n",
    "        noSlow += len(tmp[tmp.action == 'noSlow'])\n",
    "    \n",
    "    line_width = 45\n",
    "    color = (0, 1, 0.5)\n",
    "    cv2.putText(im, 'No need to move over: {}'.format(noNeed),    (10,line_width), font, 2, color, 2, cv2.LINE_AA)\n",
    "    cv2.putText(im, 'Moved over: {}'.format(moveOver), (10, 2 * line_width), font, 2, color, 2, cv2.LINE_AA)\n",
    "    cv2.putText(im, \"Didn't move over, speed reduced: {}\".format(slow),     (10, 3 * line_width), font, 2, color, 2, cv2.LINE_AA)\n",
    "    cv2.putText(im, \"Didn't move over, speed not reduced: {}\".format(noSlow),     (10, 4 * line_width), font, 2, color, 2, cv2.LINE_AA)\n",
    "    if return_int:\n",
    "        im = (255 * im).astype(np.byte)\n",
    "    return im\n",
    "\n",
    "tmp = displayImageCounter(TEXT_SPACE_BOTTOM, 850, 19, return_int = False)\n",
    "plt.imshow(tmp)"
   ]
  },
  {
   "cell_type": "code",
   "execution_count": null,
   "metadata": {},
   "outputs": [],
   "source": [
    "filenames = glob.glob(os.path.join(INPUT_FRAMES_PATH, '*.jpg'))\n",
    "filenames.sort()\n"
   ]
  },
  {
   "cell_type": "code",
   "execution_count": null,
   "metadata": {},
   "outputs": [],
   "source": [
    "t = time()\n",
    "for i, filename in enumerate(filenames):\n",
    "    image = cv2.imread(filename)\n",
    "    image = image[:VIDEO_Y, :VIDEO_X, :]\n",
    "    final_image = np.zeros((image.shape[0] + TEXT_SPACE_BOTTOM, image.shape[1], 3),dtype=np.uint8)\n",
    "\n",
    "    final_image[:image.shape[0], :VIDEO_X, :] = image\n",
    "    tmp = displayImageCounter(TEXT_SPACE_BOTTOM, image.shape[1], i)\n",
    "    final_image[VIDEO_Y:, :, : ] = tmp \n",
    "    \n",
    "    #final_image = cv2.cvtColor(final_image, cv2.COLOR_RGB2BGR)\n",
    "\n",
    "    cv2.imwrite(os.path.join(OUTPUT_FRAMES_PATH, 'im_{}.jpg'.format(str(i).zfill(5))), final_image)\n",
    "    if i%FPS == 0:\n",
    "        t2 = time() - t\n",
    "        minutes = int (i/FPS / 60)\n",
    "        seconds = int (i/FPS - (minutes * 60))\n",
    "        sys.stdout.write('{} frames ({}:{} min) done in {:.1f} seconds ({:.2f} frames/sec)    \\r'.format(\n",
    "            i, str(minutes).zfill(2), str(seconds).zfill(2), t2, i/t2))                   \n",
    " "
   ]
  },
  {
   "cell_type": "code",
   "execution_count": null,
   "metadata": {},
   "outputs": [],
   "source": [
    "from helper import generate_video\n",
    "generate_video(fps = 60, inputPath = OUTPUT_FRAMES_PATH, outputFile='output_CBTV44.avi')"
   ]
  },
  {
   "cell_type": "code",
   "execution_count": null,
   "metadata": {},
   "outputs": [],
   "source": []
  }
 ],
 "metadata": {
  "kernelspec": {
   "display_name": "Python [conda env:cav]",
   "language": "python",
   "name": "conda-env-cav-py"
  },
  "language_info": {
   "codemirror_mode": {
    "name": "ipython",
    "version": 3
   },
   "file_extension": ".py",
   "mimetype": "text/x-python",
   "name": "python",
   "nbconvert_exporter": "python",
   "pygments_lexer": "ipython3",
   "version": "3.7.6"
  }
 },
 "nbformat": 4,
 "nbformat_minor": 4
}
